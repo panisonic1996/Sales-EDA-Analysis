{
 "cells": [
  {
   "cell_type": "markdown",
   "id": "3ac21774",
   "metadata": {},
   "source": [
    "# Data cleaning"
   ]
  },
  {
   "cell_type": "markdown",
   "id": "de011c28",
   "metadata": {},
   "source": [
    "## Importing libraries"
   ]
  },
  {
   "cell_type": "code",
   "execution_count": 2,
   "id": "120a2b59",
   "metadata": {
    "pycharm": {
     "is_executing": true
    }
   },
   "outputs": [],
   "source": [
    "import pandas as pd\n",
    "import os"
   ]
  },
  {
   "cell_type": "markdown",
   "id": "42954886",
   "metadata": {},
   "source": [
    "### Loading data"
   ]
  },
  {
   "cell_type": "code",
   "execution_count": 3,
   "id": "1ee5cbe1",
   "metadata": {},
   "outputs": [
    {
     "data": {
      "text/html": [
       "<div>\n",
       "<style scoped>\n",
       "    .dataframe tbody tr th:only-of-type {\n",
       "        vertical-align: middle;\n",
       "    }\n",
       "\n",
       "    .dataframe tbody tr th {\n",
       "        vertical-align: top;\n",
       "    }\n",
       "\n",
       "    .dataframe thead th {\n",
       "        text-align: right;\n",
       "    }\n",
       "</style>\n",
       "<table border=\"1\" class=\"dataframe\">\n",
       "  <thead>\n",
       "    <tr style=\"text-align: right;\">\n",
       "      <th></th>\n",
       "      <th>Region</th>\n",
       "      <th>Country</th>\n",
       "      <th>Item Type</th>\n",
       "      <th>Sales Channel</th>\n",
       "      <th>Order Priority</th>\n",
       "      <th>Order Date</th>\n",
       "      <th>Order ID</th>\n",
       "      <th>Ship Date</th>\n",
       "      <th>Units Sold</th>\n",
       "      <th>Unit Price</th>\n",
       "      <th>Unit Cost</th>\n",
       "      <th>Total Revenue</th>\n",
       "      <th>Total Cost</th>\n",
       "      <th>Total Profit</th>\n",
       "    </tr>\n",
       "  </thead>\n",
       "  <tbody>\n",
       "    <tr>\n",
       "      <th>0</th>\n",
       "      <td>Australia and Oceania</td>\n",
       "      <td>Australia</td>\n",
       "      <td>Meat</td>\n",
       "      <td>Online</td>\n",
       "      <td>C</td>\n",
       "      <td>4/4/2011</td>\n",
       "      <td>451691138</td>\n",
       "      <td>5/23/2011</td>\n",
       "      <td>4300</td>\n",
       "      <td>421.89</td>\n",
       "      <td>364.69</td>\n",
       "      <td>1814127.00</td>\n",
       "      <td>1568167.00</td>\n",
       "      <td>245960.00</td>\n",
       "    </tr>\n",
       "    <tr>\n",
       "      <th>1</th>\n",
       "      <td>Asia</td>\n",
       "      <td>Tajikistan</td>\n",
       "      <td>Personal Care</td>\n",
       "      <td>Online</td>\n",
       "      <td>L</td>\n",
       "      <td>7/12/2018</td>\n",
       "      <td>144177377</td>\n",
       "      <td>8/1/2018</td>\n",
       "      <td>4145</td>\n",
       "      <td>81.73</td>\n",
       "      <td>56.67</td>\n",
       "      <td>338770.85</td>\n",
       "      <td>234897.15</td>\n",
       "      <td>103873.70</td>\n",
       "    </tr>\n",
       "    <tr>\n",
       "      <th>2</th>\n",
       "      <td>Sub-Saharan Africa</td>\n",
       "      <td>Mozambique</td>\n",
       "      <td>Cosmetics</td>\n",
       "      <td>Online</td>\n",
       "      <td>H</td>\n",
       "      <td>7/6/2011</td>\n",
       "      <td>982716166</td>\n",
       "      <td>7/17/2011</td>\n",
       "      <td>6407</td>\n",
       "      <td>437.20</td>\n",
       "      <td>263.33</td>\n",
       "      <td>2801140.40</td>\n",
       "      <td>1687155.31</td>\n",
       "      <td>1113985.09</td>\n",
       "    </tr>\n",
       "    <tr>\n",
       "      <th>3</th>\n",
       "      <td>Central America and the Caribbean</td>\n",
       "      <td>Panama</td>\n",
       "      <td>Personal Care</td>\n",
       "      <td>Offline</td>\n",
       "      <td>L</td>\n",
       "      <td>5/1/2011</td>\n",
       "      <td>784543836</td>\n",
       "      <td>5/11/2011</td>\n",
       "      <td>2810</td>\n",
       "      <td>81.73</td>\n",
       "      <td>56.67</td>\n",
       "      <td>229661.30</td>\n",
       "      <td>159242.70</td>\n",
       "      <td>70418.60</td>\n",
       "    </tr>\n",
       "    <tr>\n",
       "      <th>4</th>\n",
       "      <td>North America</td>\n",
       "      <td>Canada</td>\n",
       "      <td>Fruits</td>\n",
       "      <td>Online</td>\n",
       "      <td>H</td>\n",
       "      <td>11/15/2013</td>\n",
       "      <td>137209212</td>\n",
       "      <td>12/29/2013</td>\n",
       "      <td>2110</td>\n",
       "      <td>9.33</td>\n",
       "      <td>6.92</td>\n",
       "      <td>19686.30</td>\n",
       "      <td>14601.20</td>\n",
       "      <td>5085.10</td>\n",
       "    </tr>\n",
       "  </tbody>\n",
       "</table>\n",
       "</div>"
      ],
      "text/plain": [
       "                              Region     Country      Item Type Sales Channel  \\\n",
       "0              Australia and Oceania   Australia           Meat        Online   \n",
       "1                               Asia  Tajikistan  Personal Care        Online   \n",
       "2                 Sub-Saharan Africa  Mozambique      Cosmetics        Online   \n",
       "3  Central America and the Caribbean      Panama  Personal Care       Offline   \n",
       "4                      North America      Canada         Fruits        Online   \n",
       "\n",
       "  Order Priority  Order Date   Order ID   Ship Date  Units Sold  Unit Price  \\\n",
       "0              C    4/4/2011  451691138   5/23/2011        4300      421.89   \n",
       "1              L   7/12/2018  144177377    8/1/2018        4145       81.73   \n",
       "2              H    7/6/2011  982716166   7/17/2011        6407      437.20   \n",
       "3              L    5/1/2011  784543836   5/11/2011        2810       81.73   \n",
       "4              H  11/15/2013  137209212  12/29/2013        2110        9.33   \n",
       "\n",
       "   Unit Cost  Total Revenue  Total Cost  Total Profit  \n",
       "0     364.69     1814127.00  1568167.00     245960.00  \n",
       "1      56.67      338770.85   234897.15     103873.70  \n",
       "2     263.33     2801140.40  1687155.31    1113985.09  \n",
       "3      56.67      229661.30   159242.70      70418.60  \n",
       "4       6.92       19686.30    14601.20       5085.10  "
      ]
     },
     "execution_count": 3,
     "metadata": {},
     "output_type": "execute_result"
    }
   ],
   "source": [
    "sales=pd.read_csv(\"\\\\Datasets and Projects\\\\SALES\\\\Data\\\\Raw\\\\Sales Records.csv\")\n",
    "sales.head()"
   ]
  },
  {
   "cell_type": "markdown",
   "id": "a3d5bc17",
   "metadata": {},
   "source": [
    "### Counting the number of rows and columns, detecting empty values, defining columns data type"
   ]
  },
  {
   "cell_type": "code",
   "execution_count": 4,
   "id": "ae347dee",
   "metadata": {},
   "outputs": [
    {
     "name": "stdout",
     "output_type": "stream",
     "text": [
      "(2000000, 14)\n"
     ]
    }
   ],
   "source": [
    "print(sales.shape)"
   ]
  },
  {
   "cell_type": "code",
   "execution_count": 5,
   "id": "d88cebbd",
   "metadata": {},
   "outputs": [
    {
     "name": "stdout",
     "output_type": "stream",
     "text": [
      "Region            0\n",
      "Country           0\n",
      "Item Type         0\n",
      "Sales Channel     0\n",
      "Order Priority    0\n",
      "Order Date        0\n",
      "Order ID          0\n",
      "Ship Date         0\n",
      "Units Sold        0\n",
      "Unit Price        0\n",
      "Unit Cost         0\n",
      "Total Revenue     0\n",
      "Total Cost        0\n",
      "Total Profit      0\n",
      "dtype: int64\n"
     ]
    }
   ],
   "source": [
    "print(sales.isna().sum())"
   ]
  },
  {
   "cell_type": "code",
   "execution_count": 6,
   "id": "f9a7741c",
   "metadata": {},
   "outputs": [
    {
     "name": "stdout",
     "output_type": "stream",
     "text": [
      "Region             object\n",
      "Country            object\n",
      "Item Type          object\n",
      "Sales Channel      object\n",
      "Order Priority     object\n",
      "Order Date         object\n",
      "Order ID            int64\n",
      "Ship Date          object\n",
      "Units Sold          int64\n",
      "Unit Price        float64\n",
      "Unit Cost         float64\n",
      "Total Revenue     float64\n",
      "Total Cost        float64\n",
      "Total Profit      float64\n",
      "dtype: object\n"
     ]
    }
   ],
   "source": [
    "print(sales.dtypes)"
   ]
  },
  {
   "cell_type": "markdown",
   "id": "d6942374",
   "metadata": {},
   "source": [
    "### Making columns required type"
   ]
  },
  {
   "cell_type": "code",
   "execution_count": 7,
   "id": "38c5ed2a",
   "metadata": {},
   "outputs": [],
   "source": [
    "sales['Order Date'] = pd.to_datetime(sales['Order Date'])\n",
    "sales['Ship Date'] = pd.to_datetime(sales['Ship Date'])"
   ]
  },
  {
   "cell_type": "markdown",
   "id": "7bcd80fd",
   "metadata": {},
   "source": [
    "### Adding year, month and day columns"
   ]
  },
  {
   "cell_type": "code",
   "execution_count": 8,
   "id": "d7646156",
   "metadata": {},
   "outputs": [],
   "source": [
    "sales['Order Year']=sales['Order Date'].apply(lambda x: x.strftime('%Y'))\n",
    "sales['Order Month']=sales['Order Date'].apply(lambda x: x.strftime('%B'))\n",
    "sales['Order Day']=sales['Order Date'].apply(lambda x: x.strftime('%A'))\n",
    "sales['Ship Month']=sales['Ship Date'].apply(lambda x: x.strftime('%B'))\n",
    "sales['Ship Day']=sales['Ship Date'].apply(lambda x: x.strftime('%A'))"
   ]
  },
  {
   "cell_type": "markdown",
   "id": "6d8662f6",
   "metadata": {},
   "source": [
    "### Adding delivery time  and production  profitability columns"
   ]
  },
  {
   "cell_type": "code",
   "execution_count": 9,
   "id": "3468e7d6",
   "metadata": {},
   "outputs": [],
   "source": [
    "sales['Delivery time'] = sales['Ship Date'].sub(sales['Order Date'], axis=0)\n",
    "sales['Profitability'] = round(((sales['Total Profit']/sales['Total Cost'])*100), 2)\n",
    "sales['Unit Profit'] = (sales['Unit Price']-sales['Unit Cost'])"
   ]
  },
  {
   "cell_type": "markdown",
   "id": "05a65d00",
   "metadata": {},
   "source": [
    "### Changing columns order"
   ]
  },
  {
   "cell_type": "code",
   "execution_count": 10,
   "id": "c418b8d0",
   "metadata": {},
   "outputs": [],
   "source": [
    "column_names = ['Region','Country', 'Item Type', 'Sales Channel', 'Order Priority', 'Order ID',\n",
    "                'Order Date', 'Order Year', 'Order Month', 'Order Day',\n",
    "                'Ship Date', 'Ship Month', 'Ship Day', 'Delivery time',\n",
    "                'Units Sold', 'Unit Price', 'Unit Cost', 'Unit Profit', 'Total Revenue', 'Total Cost', 'Total Profit',\n",
    "                'Profitability']\n",
    "sales = sales.reindex(columns=column_names)\n",
    "sales.sort_values(by=['Order Date'], inplace=True, ascending=True, ignore_index=True)"
   ]
  },
  {
   "cell_type": "code",
   "execution_count": 11,
   "id": "3fa74f1c",
   "metadata": {},
   "outputs": [
    {
     "data": {
      "text/html": [
       "<div>\n",
       "<style scoped>\n",
       "    .dataframe tbody tr th:only-of-type {\n",
       "        vertical-align: middle;\n",
       "    }\n",
       "\n",
       "    .dataframe tbody tr th {\n",
       "        vertical-align: top;\n",
       "    }\n",
       "\n",
       "    .dataframe thead th {\n",
       "        text-align: right;\n",
       "    }\n",
       "</style>\n",
       "<table border=\"1\" class=\"dataframe\">\n",
       "  <thead>\n",
       "    <tr style=\"text-align: right;\">\n",
       "      <th></th>\n",
       "      <th>Region</th>\n",
       "      <th>Country</th>\n",
       "      <th>Item Type</th>\n",
       "      <th>Sales Channel</th>\n",
       "      <th>Order Priority</th>\n",
       "      <th>Order ID</th>\n",
       "      <th>Order Date</th>\n",
       "      <th>Order Year</th>\n",
       "      <th>Order Month</th>\n",
       "      <th>Order Day</th>\n",
       "      <th>...</th>\n",
       "      <th>Ship Day</th>\n",
       "      <th>Delivery time</th>\n",
       "      <th>Units Sold</th>\n",
       "      <th>Unit Price</th>\n",
       "      <th>Unit Cost</th>\n",
       "      <th>Unit Profit</th>\n",
       "      <th>Total Revenue</th>\n",
       "      <th>Total Cost</th>\n",
       "      <th>Total Profit</th>\n",
       "      <th>Profitability</th>\n",
       "    </tr>\n",
       "  </thead>\n",
       "  <tbody>\n",
       "    <tr>\n",
       "      <th>0</th>\n",
       "      <td>Central America and the Caribbean</td>\n",
       "      <td>Cuba</td>\n",
       "      <td>Fruits</td>\n",
       "      <td>Online</td>\n",
       "      <td>L</td>\n",
       "      <td>978111779</td>\n",
       "      <td>2010-01-01</td>\n",
       "      <td>2010</td>\n",
       "      <td>January</td>\n",
       "      <td>Friday</td>\n",
       "      <td>...</td>\n",
       "      <td>Saturday</td>\n",
       "      <td>1 days</td>\n",
       "      <td>3866</td>\n",
       "      <td>9.33</td>\n",
       "      <td>6.92</td>\n",
       "      <td>2.41</td>\n",
       "      <td>36069.78</td>\n",
       "      <td>26752.72</td>\n",
       "      <td>9317.06</td>\n",
       "      <td>34.83</td>\n",
       "    </tr>\n",
       "    <tr>\n",
       "      <th>1</th>\n",
       "      <td>Middle East and North Africa</td>\n",
       "      <td>Iraq</td>\n",
       "      <td>Household</td>\n",
       "      <td>Offline</td>\n",
       "      <td>M</td>\n",
       "      <td>899159562</td>\n",
       "      <td>2010-01-01</td>\n",
       "      <td>2010</td>\n",
       "      <td>January</td>\n",
       "      <td>Friday</td>\n",
       "      <td>...</td>\n",
       "      <td>Friday</td>\n",
       "      <td>28 days</td>\n",
       "      <td>151</td>\n",
       "      <td>668.27</td>\n",
       "      <td>502.54</td>\n",
       "      <td>165.73</td>\n",
       "      <td>100908.77</td>\n",
       "      <td>75883.54</td>\n",
       "      <td>25025.23</td>\n",
       "      <td>32.98</td>\n",
       "    </tr>\n",
       "    <tr>\n",
       "      <th>2</th>\n",
       "      <td>Europe</td>\n",
       "      <td>Germany</td>\n",
       "      <td>Snacks</td>\n",
       "      <td>Online</td>\n",
       "      <td>M</td>\n",
       "      <td>936589038</td>\n",
       "      <td>2010-01-01</td>\n",
       "      <td>2010</td>\n",
       "      <td>January</td>\n",
       "      <td>Friday</td>\n",
       "      <td>...</td>\n",
       "      <td>Wednesday</td>\n",
       "      <td>40 days</td>\n",
       "      <td>6364</td>\n",
       "      <td>152.58</td>\n",
       "      <td>97.44</td>\n",
       "      <td>55.14</td>\n",
       "      <td>971019.12</td>\n",
       "      <td>620108.16</td>\n",
       "      <td>350910.96</td>\n",
       "      <td>56.59</td>\n",
       "    </tr>\n",
       "    <tr>\n",
       "      <th>3</th>\n",
       "      <td>Asia</td>\n",
       "      <td>Turkmenistan</td>\n",
       "      <td>Office Supplies</td>\n",
       "      <td>Online</td>\n",
       "      <td>M</td>\n",
       "      <td>192446839</td>\n",
       "      <td>2010-01-01</td>\n",
       "      <td>2010</td>\n",
       "      <td>January</td>\n",
       "      <td>Friday</td>\n",
       "      <td>...</td>\n",
       "      <td>Thursday</td>\n",
       "      <td>13 days</td>\n",
       "      <td>8151</td>\n",
       "      <td>651.21</td>\n",
       "      <td>524.96</td>\n",
       "      <td>126.25</td>\n",
       "      <td>5308012.71</td>\n",
       "      <td>4278948.96</td>\n",
       "      <td>1029063.75</td>\n",
       "      <td>24.05</td>\n",
       "    </tr>\n",
       "    <tr>\n",
       "      <th>4</th>\n",
       "      <td>Central America and the Caribbean</td>\n",
       "      <td>Dominica</td>\n",
       "      <td>Snacks</td>\n",
       "      <td>Online</td>\n",
       "      <td>C</td>\n",
       "      <td>649669063</td>\n",
       "      <td>2010-01-01</td>\n",
       "      <td>2010</td>\n",
       "      <td>January</td>\n",
       "      <td>Friday</td>\n",
       "      <td>...</td>\n",
       "      <td>Saturday</td>\n",
       "      <td>36 days</td>\n",
       "      <td>368</td>\n",
       "      <td>152.58</td>\n",
       "      <td>97.44</td>\n",
       "      <td>55.14</td>\n",
       "      <td>56149.44</td>\n",
       "      <td>35857.92</td>\n",
       "      <td>20291.52</td>\n",
       "      <td>56.59</td>\n",
       "    </tr>\n",
       "  </tbody>\n",
       "</table>\n",
       "<p>5 rows × 22 columns</p>\n",
       "</div>"
      ],
      "text/plain": [
       "                              Region       Country        Item Type  \\\n",
       "0  Central America and the Caribbean          Cuba           Fruits   \n",
       "1       Middle East and North Africa          Iraq        Household   \n",
       "2                             Europe       Germany           Snacks   \n",
       "3                               Asia  Turkmenistan  Office Supplies   \n",
       "4  Central America and the Caribbean      Dominica           Snacks   \n",
       "\n",
       "  Sales Channel Order Priority   Order ID Order Date Order Year Order Month  \\\n",
       "0        Online              L  978111779 2010-01-01       2010     January   \n",
       "1       Offline              M  899159562 2010-01-01       2010     January   \n",
       "2        Online              M  936589038 2010-01-01       2010     January   \n",
       "3        Online              M  192446839 2010-01-01       2010     January   \n",
       "4        Online              C  649669063 2010-01-01       2010     January   \n",
       "\n",
       "  Order Day  ...   Ship Day Delivery time Units Sold Unit Price  Unit Cost  \\\n",
       "0    Friday  ...   Saturday        1 days       3866       9.33       6.92   \n",
       "1    Friday  ...     Friday       28 days        151     668.27     502.54   \n",
       "2    Friday  ...  Wednesday       40 days       6364     152.58      97.44   \n",
       "3    Friday  ...   Thursday       13 days       8151     651.21     524.96   \n",
       "4    Friday  ...   Saturday       36 days        368     152.58      97.44   \n",
       "\n",
       "   Unit Profit  Total Revenue  Total Cost  Total Profit  Profitability  \n",
       "0         2.41       36069.78    26752.72       9317.06          34.83  \n",
       "1       165.73      100908.77    75883.54      25025.23          32.98  \n",
       "2        55.14      971019.12   620108.16     350910.96          56.59  \n",
       "3       126.25     5308012.71  4278948.96    1029063.75          24.05  \n",
       "4        55.14       56149.44    35857.92      20291.52          56.59  \n",
       "\n",
       "[5 rows x 22 columns]"
      ]
     },
     "execution_count": 11,
     "metadata": {},
     "output_type": "execute_result"
    }
   ],
   "source": [
    "sales.head()"
   ]
  },
  {
   "cell_type": "markdown",
   "id": "cef938c7",
   "metadata": {},
   "source": [
    "### Saving processed data"
   ]
  },
  {
   "cell_type": "code",
   "execution_count": 12,
   "id": "c185a2eb",
   "metadata": {},
   "outputs": [],
   "source": [
    "os.chdir('\\\\Datasets and Projects\\\\SALES\\\\Data\\\\Processed\\\\')"
   ]
  },
  {
   "cell_type": "code",
   "execution_count": 13,
   "id": "afbfa56c",
   "metadata": {},
   "outputs": [],
   "source": [
    "sales.to_csv('Sales Dataset(processed data).csv', index=False)"
   ]
  }
 ],
 "metadata": {
  "kernelspec": {
   "display_name": "Python 3 (ipykernel)",
   "language": "python",
   "name": "python3"
  },
  "language_info": {
   "codemirror_mode": {
    "name": "ipython",
    "version": 3
   },
   "file_extension": ".py",
   "mimetype": "text/x-python",
   "name": "python",
   "nbconvert_exporter": "python",
   "pygments_lexer": "ipython3",
   "version": "3.9.5"
  }
 },
 "nbformat": 4,
 "nbformat_minor": 5
}